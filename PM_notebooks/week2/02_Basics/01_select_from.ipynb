{
    "metadata": {
        "kernelspec": {
            "name": "SQL",
            "display_name": "SQL",
            "language": "sql"
        },
        "language_info": {
            "name": "sql",
            "version": ""
        }
    },
    "nbformat_minor": 2,
    "nbformat": 4,
    "cells": [
        {
            "cell_type": "markdown",
            "source": [
                "# Selecting data from table"
            ],
            "metadata": {
                "azdata_cell_guid": "f72349b3-c139-4998-b9cf-9bdcd87e5c2e"
            },
            "attachments": {}
        },
        {
            "cell_type": "markdown",
            "source": [
                "<span style=\"font-family: -apple-system, BlinkMacSystemFont, sans-serif; color: var(--vscode-foreground);\">customer tábla</span>"
            ],
            "metadata": {
                "language": "sql",
                "azdata_cell_guid": "4d6245b3-af31-43d5-9290-fe8f4cb8c8b4"
            },
            "attachments": {}
        },
        {
            "cell_type": "code",
            "source": [
                "SELECT MAX(customer_id)\n",
                "  FROM [sql_recap].[dbo].[customers]"
            ],
            "metadata": {
                "azdata_cell_guid": "216adf4d-d3da-47e2-a5dc-64ccf6129577",
                "language": "sql",
                "tags": []
            },
            "outputs": [
                {
                    "output_type": "display_data",
                    "data": {
                        "text/html": "(1 row affected)"
                    },
                    "metadata": {}
                },
                {
                    "output_type": "display_data",
                    "data": {
                        "text/html": "Total execution time: 00:00:00.056"
                    },
                    "metadata": {}
                },
                {
                    "output_type": "execute_result",
                    "execution_count": 6,
                    "data": {
                        "application/vnd.dataresource+json": {
                            "schema": {
                                "fields": [
                                    {
                                        "name": "(No column name)"
                                    }
                                ]
                            },
                            "data": [
                                {
                                    "(No column name)": "500"
                                }
                            ]
                        },
                        "text/html": "<table><tr><th>(No column name)</th></tr><tr><td>500</td></tr></table>"
                    },
                    "metadata": {}
                }
            ],
            "execution_count": 6
        },
        {
            "cell_type": "markdown",
            "source": [
                "products <span style=\"font-family: -apple-system, BlinkMacSystemFont, sans-serif; color: var(--vscode-foreground);\">tábla</span>"
            ],
            "metadata": {
                "language": "sql",
                "azdata_cell_guid": "7bd15933-31f2-457a-8a13-6c12f2942266"
            },
            "attachments": {}
        },
        {
            "cell_type": "code",
            "source": [
                "SELECT *\n",
                "  FROM [sql_recap].[dbo].[products]"
            ],
            "metadata": {
                "language": "sql",
                "azdata_cell_guid": "f73fe5ac-bac7-47af-8246-bd92a7205ccf",
                "tags": []
            },
            "outputs": [
                {
                    "output_type": "display_data",
                    "data": {
                        "text/html": "(200 rows affected)"
                    },
                    "metadata": {}
                },
                {
                    "output_type": "display_data",
                    "data": {
                        "text/html": "Total execution time: 00:00:00.055"
                    },
                    "metadata": {}
                },
                {
                    "output_type": "execute_result",
                    "execution_count": 8,
                    "data": {
                        "application/vnd.dataresource+json": {
                            "schema": {
                                "fields": [
                                    {
                                        "name": "product_id"
                                    },
                                    {
                                        "name": "product_name"
                                    },
                                    {
                                        "name": "category"
                                    }
                                ]
                            },
                            "data": [
                                {
                                    "product_id": "1",
                                    "product_name": "Product 1",
                                    "category": "Books"
                                },
                                {
                                    "product_id": "2",
                                    "product_name": "Product 2",
                                    "category": "Furniture"
                                },
                                {
                                    "product_id": "3",
                                    "product_name": "Product 3",
                                    "category": "Clothing"
                                },
                                {
                                    "product_id": "4",
                                    "product_name": "Product 4",
                                    "category": "Clothing"
                                },
                                {
                                    "product_id": "5",
                                    "product_name": "Product 5",
                                    "category": "Electronics"
                                },
                                {
                                    "product_id": "6",
                                    "product_name": "Product 6",
                                    "category": "Furniture"
                                },
                                {
                                    "product_id": "7",
                                    "product_name": "Product 7",
                                    "category": "Books"
                                },
                                {
                                    "product_id": "8",
                                    "product_name": "Product 8",
                                    "category": "Toys"
                                },
                                {
                                    "product_id": "9",
                                    "product_name": "Product 9",
                                    "category": "Toys"
                                },
                                {
                                    "product_id": "10",
                                    "product_name": "Product 10",
                                    "category": "Electronics"
                                },
                                {
                                    "product_id": "11",
                                    "product_name": "Product 11",
                                    "category": "Clothing"
                                },
                                {
                                    "product_id": "12",
                                    "product_name": "Product 12",
                                    "category": "Books"
                                },
                                {
                                    "product_id": "13",
                                    "product_name": "Product 13",
                                    "category": "Furniture"
                                },
                                {
                                    "product_id": "14",
                                    "product_name": "Product 14",
                                    "category": "Electronics"
                                },
                                {
                                    "product_id": "15",
                                    "product_name": "Product 15",
                                    "category": "Electronics"
                                },
                                {
                                    "product_id": "16",
                                    "product_name": "Product 16",
                                    "category": "Furniture"
                                },
                                {
                                    "product_id": "17",
                                    "product_name": "Product 17",
                                    "category": "Electronics"
                                },
                                {
                                    "product_id": "18",
                                    "product_name": "Product 18",
                                    "category": "Toys"
                                },
                                {
                                    "product_id": "19",
                                    "product_name": "Product 19",
                                    "category": "Electronics"
                                },
                                {
                                    "product_id": "20",
                                    "product_name": "Product 20",
                                    "category": "Furniture"
                                },
                                {
                                    "product_id": "21",
                                    "product_name": "Product 21",
                                    "category": "Toys"
                                },
                                {
                                    "product_id": "22",
                                    "product_name": "Product 22",
                                    "category": "Toys"
                                },
                                {
                                    "product_id": "23",
                                    "product_name": "Product 23",
                                    "category": "Furniture"
                                },
                                {
                                    "product_id": "24",
                                    "product_name": "Product 24",
                                    "category": "Books"
                                },
                                {
                                    "product_id": "25",
                                    "product_name": "Product 25",
                                    "category": "Books"
                                },
                                {
                                    "product_id": "26",
                                    "product_name": "Product 26",
                                    "category": "Books"
                                },
                                {
                                    "product_id": "27",
                                    "product_name": "Product 27",
                                    "category": "Electronics"
                                },
                                {
                                    "product_id": "28",
                                    "product_name": "Product 28",
                                    "category": "Toys"
                                },
                                {
                                    "product_id": "29",
                                    "product_name": "Product 29",
                                    "category": "Toys"
                                },
                                {
                                    "product_id": "30",
                                    "product_name": "Product 30",
                                    "category": "Furniture"
                                },
                                {
                                    "product_id": "31",
                                    "product_name": "Product 31",
                                    "category": "Toys"
                                },
                                {
                                    "product_id": "32",
                                    "product_name": "Product 32",
                                    "category": "Books"
                                },
                                {
                                    "product_id": "33",
                                    "product_name": "Product 33",
                                    "category": "Books"
                                },
                                {
                                    "product_id": "34",
                                    "product_name": "Product 34",
                                    "category": "Furniture"
                                },
                                {
                                    "product_id": "35",
                                    "product_name": "Product 35",
                                    "category": "Toys"
                                },
                                {
                                    "product_id": "36",
                                    "product_name": "Product 36",
                                    "category": "Electronics"
                                },
                                {
                                    "product_id": "37",
                                    "product_name": "Product 37",
                                    "category": "Furniture"
                                },
                                {
                                    "product_id": "38",
                                    "product_name": "Product 38",
                                    "category": "Clothing"
                                },
                                {
                                    "product_id": "39",
                                    "product_name": "Product 39",
                                    "category": "Toys"
                                },
                                {
                                    "product_id": "40",
                                    "product_name": "Product 40",
                                    "category": "Clothing"
                                },
                                {
                                    "product_id": "41",
                                    "product_name": "Product 41",
                                    "category": "Books"
                                },
                                {
                                    "product_id": "42",
                                    "product_name": "Product 42",
                                    "category": "Electronics"
                                },
                                {
                                    "product_id": "43",
                                    "product_name": "Product 43",
                                    "category": "Toys"
                                },
                                {
                                    "product_id": "44",
                                    "product_name": "Product 44",
                                    "category": "Toys"
                                },
                                {
                                    "product_id": "45",
                                    "product_name": "Product 45",
                                    "category": "Books"
                                },
                                {
                                    "product_id": "46",
                                    "product_name": "Product 46",
                                    "category": "Clothing"
                                },
                                {
                                    "product_id": "47",
                                    "product_name": "Product 47",
                                    "category": "Toys"
                                },
                                {
                                    "product_id": "48",
                                    "product_name": "Product 48",
                                    "category": "Clothing"
                                },
                                {
                                    "product_id": "49",
                                    "product_name": "Product 49",
                                    "category": "Furniture"
                                },
                                {
                                    "product_id": "50",
                                    "product_name": "Product 50",
                                    "category": "Books"
                                },
                                {
                                    "product_id": "51",
                                    "product_name": "Product 51",
                                    "category": "Toys"
                                },
                                {
                                    "product_id": "52",
                                    "product_name": "Product 52",
                                    "category": "Electronics"
                                },
                                {
                                    "product_id": "53",
                                    "product_name": "Product 53",
                                    "category": "Furniture"
                                },
                                {
                                    "product_id": "54",
                                    "product_name": "Product 54",
                                    "category": "Books"
                                },
                                {
                                    "product_id": "55",
                                    "product_name": "Product 55",
                                    "category": "Electronics"
                                },
                                {
                                    "product_id": "56",
                                    "product_name": "Product 56",
                                    "category": "Books"
                                },
                                {
                                    "product_id": "57",
                                    "product_name": "Product 57",
                                    "category": "Furniture"
                                },
                                {
                                    "product_id": "58",
                                    "product_name": "Product 58",
                                    "category": "Clothing"
                                },
                                {
                                    "product_id": "59",
                                    "product_name": "Product 59",
                                    "category": "Clothing"
                                },
                                {
                                    "product_id": "60",
                                    "product_name": "Product 60",
                                    "category": "Furniture"
                                },
                                {
                                    "product_id": "61",
                                    "product_name": "Product 61",
                                    "category": "Furniture"
                                },
                                {
                                    "product_id": "62",
                                    "product_name": "Product 62",
                                    "category": "Electronics"
                                },
                                {
                                    "product_id": "63",
                                    "product_name": "Product 63",
                                    "category": "Books"
                                },
                                {
                                    "product_id": "64",
                                    "product_name": "Product 64",
                                    "category": "Books"
                                },
                                {
                                    "product_id": "65",
                                    "product_name": "Product 65",
                                    "category": "Clothing"
                                },
                                {
                                    "product_id": "66",
                                    "product_name": "Product 66",
                                    "category": "Books"
                                },
                                {
                                    "product_id": "67",
                                    "product_name": "Product 67",
                                    "category": "Furniture"
                                },
                                {
                                    "product_id": "68",
                                    "product_name": "Product 68",
                                    "category": "Clothing"
                                },
                                {
                                    "product_id": "69",
                                    "product_name": "Product 69",
                                    "category": "Electronics"
                                },
                                {
                                    "product_id": "70",
                                    "product_name": "Product 70",
                                    "category": "Furniture"
                                },
                                {
                                    "product_id": "71",
                                    "product_name": "Product 71",
                                    "category": "Clothing"
                                },
                                {
                                    "product_id": "72",
                                    "product_name": "Product 72",
                                    "category": "Furniture"
                                },
                                {
                                    "product_id": "73",
                                    "product_name": "Product 73",
                                    "category": "Toys"
                                },
                                {
                                    "product_id": "74",
                                    "product_name": "Product 74",
                                    "category": "Furniture"
                                },
                                {
                                    "product_id": "75",
                                    "product_name": "Product 75",
                                    "category": "Clothing"
                                },
                                {
                                    "product_id": "76",
                                    "product_name": "Product 76",
                                    "category": "Furniture"
                                },
                                {
                                    "product_id": "77",
                                    "product_name": "Product 77",
                                    "category": "Books"
                                },
                                {
                                    "product_id": "78",
                                    "product_name": "Product 78",
                                    "category": "Clothing"
                                },
                                {
                                    "product_id": "79",
                                    "product_name": "Product 79",
                                    "category": "Books"
                                },
                                {
                                    "product_id": "80",
                                    "product_name": "Product 80",
                                    "category": "Electronics"
                                },
                                {
                                    "product_id": "81",
                                    "product_name": "Product 81",
                                    "category": "Books"
                                },
                                {
                                    "product_id": "82",
                                    "product_name": "Product 82",
                                    "category": "Books"
                                },
                                {
                                    "product_id": "83",
                                    "product_name": "Product 83",
                                    "category": "Books"
                                },
                                {
                                    "product_id": "84",
                                    "product_name": "Product 84",
                                    "category": "Books"
                                },
                                {
                                    "product_id": "85",
                                    "product_name": "Product 85",
                                    "category": "Books"
                                },
                                {
                                    "product_id": "86",
                                    "product_name": "Product 86",
                                    "category": "Clothing"
                                },
                                {
                                    "product_id": "87",
                                    "product_name": "Product 87",
                                    "category": "Toys"
                                },
                                {
                                    "product_id": "88",
                                    "product_name": "Product 88",
                                    "category": "Electronics"
                                },
                                {
                                    "product_id": "89",
                                    "product_name": "Product 89",
                                    "category": "Books"
                                },
                                {
                                    "product_id": "90",
                                    "product_name": "Product 90",
                                    "category": "Toys"
                                },
                                {
                                    "product_id": "91",
                                    "product_name": "Product 91",
                                    "category": "Toys"
                                },
                                {
                                    "product_id": "92",
                                    "product_name": "Product 92",
                                    "category": "Electronics"
                                },
                                {
                                    "product_id": "93",
                                    "product_name": "Product 93",
                                    "category": "Furniture"
                                },
                                {
                                    "product_id": "94",
                                    "product_name": "Product 94",
                                    "category": "Electronics"
                                },
                                {
                                    "product_id": "95",
                                    "product_name": "Product 95",
                                    "category": "Electronics"
                                },
                                {
                                    "product_id": "96",
                                    "product_name": "Product 96",
                                    "category": "Electronics"
                                },
                                {
                                    "product_id": "97",
                                    "product_name": "Product 97",
                                    "category": "Furniture"
                                },
                                {
                                    "product_id": "98",
                                    "product_name": "Product 98",
                                    "category": "Furniture"
                                },
                                {
                                    "product_id": "99",
                                    "product_name": "Product 99",
                                    "category": "Toys"
                                },
                                {
                                    "product_id": "100",
                                    "product_name": "Product 100",
                                    "category": "Clothing"
                                },
                                {
                                    "product_id": "101",
                                    "product_name": "Product 101",
                                    "category": "Clothing"
                                },
                                {
                                    "product_id": "102",
                                    "product_name": "Product 102",
                                    "category": "Clothing"
                                },
                                {
                                    "product_id": "103",
                                    "product_name": "Product 103",
                                    "category": "Books"
                                },
                                {
                                    "product_id": "104",
                                    "product_name": "Product 104",
                                    "category": "Books"
                                },
                                {
                                    "product_id": "105",
                                    "product_name": "Product 105",
                                    "category": "Furniture"
                                },
                                {
                                    "product_id": "106",
                                    "product_name": "Product 106",
                                    "category": "Toys"
                                },
                                {
                                    "product_id": "107",
                                    "product_name": "Product 107",
                                    "category": "Books"
                                },
                                {
                                    "product_id": "108",
                                    "product_name": "Product 108",
                                    "category": "Books"
                                },
                                {
                                    "product_id": "109",
                                    "product_name": "Product 109",
                                    "category": "Books"
                                },
                                {
                                    "product_id": "110",
                                    "product_name": "Product 110",
                                    "category": "Electronics"
                                },
                                {
                                    "product_id": "111",
                                    "product_name": "Product 111",
                                    "category": "Toys"
                                },
                                {
                                    "product_id": "112",
                                    "product_name": "Product 112",
                                    "category": "Electronics"
                                },
                                {
                                    "product_id": "113",
                                    "product_name": "Product 113",
                                    "category": "Electronics"
                                },
                                {
                                    "product_id": "114",
                                    "product_name": "Product 114",
                                    "category": "Furniture"
                                },
                                {
                                    "product_id": "115",
                                    "product_name": "Product 115",
                                    "category": "Electronics"
                                },
                                {
                                    "product_id": "116",
                                    "product_name": "Product 116",
                                    "category": "Toys"
                                },
                                {
                                    "product_id": "117",
                                    "product_name": "Product 117",
                                    "category": "Electronics"
                                },
                                {
                                    "product_id": "118",
                                    "product_name": "Product 118",
                                    "category": "Electronics"
                                },
                                {
                                    "product_id": "119",
                                    "product_name": "Product 119",
                                    "category": "Books"
                                },
                                {
                                    "product_id": "120",
                                    "product_name": "Product 120",
                                    "category": "Clothing"
                                },
                                {
                                    "product_id": "121",
                                    "product_name": "Product 121",
                                    "category": "Books"
                                },
                                {
                                    "product_id": "122",
                                    "product_name": "Product 122",
                                    "category": "Books"
                                },
                                {
                                    "product_id": "123",
                                    "product_name": "Product 123",
                                    "category": "Toys"
                                },
                                {
                                    "product_id": "124",
                                    "product_name": "Product 124",
                                    "category": "Clothing"
                                },
                                {
                                    "product_id": "125",
                                    "product_name": "Product 125",
                                    "category": "Clothing"
                                },
                                {
                                    "product_id": "126",
                                    "product_name": "Product 126",
                                    "category": "Books"
                                },
                                {
                                    "product_id": "127",
                                    "product_name": "Product 127",
                                    "category": "Electronics"
                                },
                                {
                                    "product_id": "128",
                                    "product_name": "Product 128",
                                    "category": "Toys"
                                },
                                {
                                    "product_id": "129",
                                    "product_name": "Product 129",
                                    "category": "Books"
                                },
                                {
                                    "product_id": "130",
                                    "product_name": "Product 130",
                                    "category": "Electronics"
                                },
                                {
                                    "product_id": "131",
                                    "product_name": "Product 131",
                                    "category": "Toys"
                                },
                                {
                                    "product_id": "132",
                                    "product_name": "Product 132",
                                    "category": "Electronics"
                                },
                                {
                                    "product_id": "133",
                                    "product_name": "Product 133",
                                    "category": "Furniture"
                                },
                                {
                                    "product_id": "134",
                                    "product_name": "Product 134",
                                    "category": "Toys"
                                },
                                {
                                    "product_id": "135",
                                    "product_name": "Product 135",
                                    "category": "Toys"
                                },
                                {
                                    "product_id": "136",
                                    "product_name": "Product 136",
                                    "category": "Toys"
                                },
                                {
                                    "product_id": "137",
                                    "product_name": "Product 137",
                                    "category": "Furniture"
                                },
                                {
                                    "product_id": "138",
                                    "product_name": "Product 138",
                                    "category": "Electronics"
                                },
                                {
                                    "product_id": "139",
                                    "product_name": "Product 139",
                                    "category": "Clothing"
                                },
                                {
                                    "product_id": "140",
                                    "product_name": "Product 140",
                                    "category": "Furniture"
                                },
                                {
                                    "product_id": "141",
                                    "product_name": "Product 141",
                                    "category": "Clothing"
                                },
                                {
                                    "product_id": "142",
                                    "product_name": "Product 142",
                                    "category": "Toys"
                                },
                                {
                                    "product_id": "143",
                                    "product_name": "Product 143",
                                    "category": "Furniture"
                                },
                                {
                                    "product_id": "144",
                                    "product_name": "Product 144",
                                    "category": "Electronics"
                                },
                                {
                                    "product_id": "145",
                                    "product_name": "Product 145",
                                    "category": "Furniture"
                                },
                                {
                                    "product_id": "146",
                                    "product_name": "Product 146",
                                    "category": "Furniture"
                                },
                                {
                                    "product_id": "147",
                                    "product_name": "Product 147",
                                    "category": "Clothing"
                                },
                                {
                                    "product_id": "148",
                                    "product_name": "Product 148",
                                    "category": "Clothing"
                                },
                                {
                                    "product_id": "149",
                                    "product_name": "Product 149",
                                    "category": "Books"
                                },
                                {
                                    "product_id": "150",
                                    "product_name": "Product 150",
                                    "category": "Electronics"
                                },
                                {
                                    "product_id": "151",
                                    "product_name": "Product 151",
                                    "category": "Electronics"
                                },
                                {
                                    "product_id": "152",
                                    "product_name": "Product 152",
                                    "category": "Furniture"
                                },
                                {
                                    "product_id": "153",
                                    "product_name": "Product 153",
                                    "category": "Furniture"
                                },
                                {
                                    "product_id": "154",
                                    "product_name": "Product 154",
                                    "category": "Clothing"
                                },
                                {
                                    "product_id": "155",
                                    "product_name": "Product 155",
                                    "category": "Clothing"
                                },
                                {
                                    "product_id": "156",
                                    "product_name": "Product 156",
                                    "category": "Books"
                                },
                                {
                                    "product_id": "157",
                                    "product_name": "Product 157",
                                    "category": "Toys"
                                },
                                {
                                    "product_id": "158",
                                    "product_name": "Product 158",
                                    "category": "Electronics"
                                },
                                {
                                    "product_id": "159",
                                    "product_name": "Product 159",
                                    "category": "Furniture"
                                },
                                {
                                    "product_id": "160",
                                    "product_name": "Product 160",
                                    "category": "Toys"
                                },
                                {
                                    "product_id": "161",
                                    "product_name": "Product 161",
                                    "category": "Clothing"
                                },
                                {
                                    "product_id": "162",
                                    "product_name": "Product 162",
                                    "category": "Books"
                                },
                                {
                                    "product_id": "163",
                                    "product_name": "Product 163",
                                    "category": "Clothing"
                                },
                                {
                                    "product_id": "164",
                                    "product_name": "Product 164",
                                    "category": "Toys"
                                },
                                {
                                    "product_id": "165",
                                    "product_name": "Product 165",
                                    "category": "Electronics"
                                },
                                {
                                    "product_id": "166",
                                    "product_name": "Product 166",
                                    "category": "Electronics"
                                },
                                {
                                    "product_id": "167",
                                    "product_name": "Product 167",
                                    "category": "Furniture"
                                },
                                {
                                    "product_id": "168",
                                    "product_name": "Product 168",
                                    "category": "Electronics"
                                },
                                {
                                    "product_id": "169",
                                    "product_name": "Product 169",
                                    "category": "Toys"
                                },
                                {
                                    "product_id": "170",
                                    "product_name": "Product 170",
                                    "category": "Toys"
                                },
                                {
                                    "product_id": "171",
                                    "product_name": "Product 171",
                                    "category": "Clothing"
                                },
                                {
                                    "product_id": "172",
                                    "product_name": "Product 172",
                                    "category": "Books"
                                },
                                {
                                    "product_id": "173",
                                    "product_name": "Product 173",
                                    "category": "Furniture"
                                },
                                {
                                    "product_id": "174",
                                    "product_name": "Product 174",
                                    "category": "Toys"
                                },
                                {
                                    "product_id": "175",
                                    "product_name": "Product 175",
                                    "category": "Electronics"
                                },
                                {
                                    "product_id": "176",
                                    "product_name": "Product 176",
                                    "category": "Clothing"
                                },
                                {
                                    "product_id": "177",
                                    "product_name": "Product 177",
                                    "category": "Toys"
                                },
                                {
                                    "product_id": "178",
                                    "product_name": "Product 178",
                                    "category": "Clothing"
                                },
                                {
                                    "product_id": "179",
                                    "product_name": "Product 179",
                                    "category": "Electronics"
                                },
                                {
                                    "product_id": "180",
                                    "product_name": "Product 180",
                                    "category": "Furniture"
                                },
                                {
                                    "product_id": "181",
                                    "product_name": "Product 181",
                                    "category": "Furniture"
                                },
                                {
                                    "product_id": "182",
                                    "product_name": "Product 182",
                                    "category": "Electronics"
                                },
                                {
                                    "product_id": "183",
                                    "product_name": "Product 183",
                                    "category": "Toys"
                                },
                                {
                                    "product_id": "184",
                                    "product_name": "Product 184",
                                    "category": "Electronics"
                                },
                                {
                                    "product_id": "185",
                                    "product_name": "Product 185",
                                    "category": "Toys"
                                },
                                {
                                    "product_id": "186",
                                    "product_name": "Product 186",
                                    "category": "Clothing"
                                },
                                {
                                    "product_id": "187",
                                    "product_name": "Product 187",
                                    "category": "Furniture"
                                },
                                {
                                    "product_id": "188",
                                    "product_name": "Product 188",
                                    "category": "Furniture"
                                },
                                {
                                    "product_id": "189",
                                    "product_name": "Product 189",
                                    "category": "Electronics"
                                },
                                {
                                    "product_id": "190",
                                    "product_name": "Product 190",
                                    "category": "Books"
                                },
                                {
                                    "product_id": "191",
                                    "product_name": "Product 191",
                                    "category": "Clothing"
                                },
                                {
                                    "product_id": "192",
                                    "product_name": "Product 192",
                                    "category": "Toys"
                                },
                                {
                                    "product_id": "193",
                                    "product_name": "Product 193",
                                    "category": "Furniture"
                                },
                                {
                                    "product_id": "194",
                                    "product_name": "Product 194",
                                    "category": "Books"
                                },
                                {
                                    "product_id": "195",
                                    "product_name": "Product 195",
                                    "category": "Clothing"
                                },
                                {
                                    "product_id": "196",
                                    "product_name": "Product 196",
                                    "category": "Books"
                                },
                                {
                                    "product_id": "197",
                                    "product_name": "Product 197",
                                    "category": "Books"
                                },
                                {
                                    "product_id": "198",
                                    "product_name": "Product 198",
                                    "category": "Toys"
                                },
                                {
                                    "product_id": "199",
                                    "product_name": "Product 199",
                                    "category": "Toys"
                                },
                                {
                                    "product_id": "200",
                                    "product_name": "Product 200",
                                    "category": "Furniture"
                                }
                            ]
                        },
                        "text/html": "<table><tr><th>product_id</th><th>product_name</th><th>category</th></tr><tr><td>1</td><td>Product 1</td><td>Books</td></tr><tr><td>2</td><td>Product 2</td><td>Furniture</td></tr><tr><td>3</td><td>Product 3</td><td>Clothing</td></tr><tr><td>4</td><td>Product 4</td><td>Clothing</td></tr><tr><td>5</td><td>Product 5</td><td>Electronics</td></tr><tr><td>6</td><td>Product 6</td><td>Furniture</td></tr><tr><td>7</td><td>Product 7</td><td>Books</td></tr><tr><td>8</td><td>Product 8</td><td>Toys</td></tr><tr><td>9</td><td>Product 9</td><td>Toys</td></tr><tr><td>10</td><td>Product 10</td><td>Electronics</td></tr><tr><td>11</td><td>Product 11</td><td>Clothing</td></tr><tr><td>12</td><td>Product 12</td><td>Books</td></tr><tr><td>13</td><td>Product 13</td><td>Furniture</td></tr><tr><td>14</td><td>Product 14</td><td>Electronics</td></tr><tr><td>15</td><td>Product 15</td><td>Electronics</td></tr><tr><td>16</td><td>Product 16</td><td>Furniture</td></tr><tr><td>17</td><td>Product 17</td><td>Electronics</td></tr><tr><td>18</td><td>Product 18</td><td>Toys</td></tr><tr><td>19</td><td>Product 19</td><td>Electronics</td></tr><tr><td>20</td><td>Product 20</td><td>Furniture</td></tr><tr><td>21</td><td>Product 21</td><td>Toys</td></tr><tr><td>22</td><td>Product 22</td><td>Toys</td></tr><tr><td>23</td><td>Product 23</td><td>Furniture</td></tr><tr><td>24</td><td>Product 24</td><td>Books</td></tr><tr><td>25</td><td>Product 25</td><td>Books</td></tr><tr><td>26</td><td>Product 26</td><td>Books</td></tr><tr><td>27</td><td>Product 27</td><td>Electronics</td></tr><tr><td>28</td><td>Product 28</td><td>Toys</td></tr><tr><td>29</td><td>Product 29</td><td>Toys</td></tr><tr><td>30</td><td>Product 30</td><td>Furniture</td></tr><tr><td>31</td><td>Product 31</td><td>Toys</td></tr><tr><td>32</td><td>Product 32</td><td>Books</td></tr><tr><td>33</td><td>Product 33</td><td>Books</td></tr><tr><td>34</td><td>Product 34</td><td>Furniture</td></tr><tr><td>35</td><td>Product 35</td><td>Toys</td></tr><tr><td>36</td><td>Product 36</td><td>Electronics</td></tr><tr><td>37</td><td>Product 37</td><td>Furniture</td></tr><tr><td>38</td><td>Product 38</td><td>Clothing</td></tr><tr><td>39</td><td>Product 39</td><td>Toys</td></tr><tr><td>40</td><td>Product 40</td><td>Clothing</td></tr><tr><td>41</td><td>Product 41</td><td>Books</td></tr><tr><td>42</td><td>Product 42</td><td>Electronics</td></tr><tr><td>43</td><td>Product 43</td><td>Toys</td></tr><tr><td>44</td><td>Product 44</td><td>Toys</td></tr><tr><td>45</td><td>Product 45</td><td>Books</td></tr><tr><td>46</td><td>Product 46</td><td>Clothing</td></tr><tr><td>47</td><td>Product 47</td><td>Toys</td></tr><tr><td>48</td><td>Product 48</td><td>Clothing</td></tr><tr><td>49</td><td>Product 49</td><td>Furniture</td></tr><tr><td>50</td><td>Product 50</td><td>Books</td></tr><tr><td>51</td><td>Product 51</td><td>Toys</td></tr><tr><td>52</td><td>Product 52</td><td>Electronics</td></tr><tr><td>53</td><td>Product 53</td><td>Furniture</td></tr><tr><td>54</td><td>Product 54</td><td>Books</td></tr><tr><td>55</td><td>Product 55</td><td>Electronics</td></tr><tr><td>56</td><td>Product 56</td><td>Books</td></tr><tr><td>57</td><td>Product 57</td><td>Furniture</td></tr><tr><td>58</td><td>Product 58</td><td>Clothing</td></tr><tr><td>59</td><td>Product 59</td><td>Clothing</td></tr><tr><td>60</td><td>Product 60</td><td>Furniture</td></tr><tr><td>61</td><td>Product 61</td><td>Furniture</td></tr><tr><td>62</td><td>Product 62</td><td>Electronics</td></tr><tr><td>63</td><td>Product 63</td><td>Books</td></tr><tr><td>64</td><td>Product 64</td><td>Books</td></tr><tr><td>65</td><td>Product 65</td><td>Clothing</td></tr><tr><td>66</td><td>Product 66</td><td>Books</td></tr><tr><td>67</td><td>Product 67</td><td>Furniture</td></tr><tr><td>68</td><td>Product 68</td><td>Clothing</td></tr><tr><td>69</td><td>Product 69</td><td>Electronics</td></tr><tr><td>70</td><td>Product 70</td><td>Furniture</td></tr><tr><td>71</td><td>Product 71</td><td>Clothing</td></tr><tr><td>72</td><td>Product 72</td><td>Furniture</td></tr><tr><td>73</td><td>Product 73</td><td>Toys</td></tr><tr><td>74</td><td>Product 74</td><td>Furniture</td></tr><tr><td>75</td><td>Product 75</td><td>Clothing</td></tr><tr><td>76</td><td>Product 76</td><td>Furniture</td></tr><tr><td>77</td><td>Product 77</td><td>Books</td></tr><tr><td>78</td><td>Product 78</td><td>Clothing</td></tr><tr><td>79</td><td>Product 79</td><td>Books</td></tr><tr><td>80</td><td>Product 80</td><td>Electronics</td></tr><tr><td>81</td><td>Product 81</td><td>Books</td></tr><tr><td>82</td><td>Product 82</td><td>Books</td></tr><tr><td>83</td><td>Product 83</td><td>Books</td></tr><tr><td>84</td><td>Product 84</td><td>Books</td></tr><tr><td>85</td><td>Product 85</td><td>Books</td></tr><tr><td>86</td><td>Product 86</td><td>Clothing</td></tr><tr><td>87</td><td>Product 87</td><td>Toys</td></tr><tr><td>88</td><td>Product 88</td><td>Electronics</td></tr><tr><td>89</td><td>Product 89</td><td>Books</td></tr><tr><td>90</td><td>Product 90</td><td>Toys</td></tr><tr><td>91</td><td>Product 91</td><td>Toys</td></tr><tr><td>92</td><td>Product 92</td><td>Electronics</td></tr><tr><td>93</td><td>Product 93</td><td>Furniture</td></tr><tr><td>94</td><td>Product 94</td><td>Electronics</td></tr><tr><td>95</td><td>Product 95</td><td>Electronics</td></tr><tr><td>96</td><td>Product 96</td><td>Electronics</td></tr><tr><td>97</td><td>Product 97</td><td>Furniture</td></tr><tr><td>98</td><td>Product 98</td><td>Furniture</td></tr><tr><td>99</td><td>Product 99</td><td>Toys</td></tr><tr><td>100</td><td>Product 100</td><td>Clothing</td></tr><tr><td>101</td><td>Product 101</td><td>Clothing</td></tr><tr><td>102</td><td>Product 102</td><td>Clothing</td></tr><tr><td>103</td><td>Product 103</td><td>Books</td></tr><tr><td>104</td><td>Product 104</td><td>Books</td></tr><tr><td>105</td><td>Product 105</td><td>Furniture</td></tr><tr><td>106</td><td>Product 106</td><td>Toys</td></tr><tr><td>107</td><td>Product 107</td><td>Books</td></tr><tr><td>108</td><td>Product 108</td><td>Books</td></tr><tr><td>109</td><td>Product 109</td><td>Books</td></tr><tr><td>110</td><td>Product 110</td><td>Electronics</td></tr><tr><td>111</td><td>Product 111</td><td>Toys</td></tr><tr><td>112</td><td>Product 112</td><td>Electronics</td></tr><tr><td>113</td><td>Product 113</td><td>Electronics</td></tr><tr><td>114</td><td>Product 114</td><td>Furniture</td></tr><tr><td>115</td><td>Product 115</td><td>Electronics</td></tr><tr><td>116</td><td>Product 116</td><td>Toys</td></tr><tr><td>117</td><td>Product 117</td><td>Electronics</td></tr><tr><td>118</td><td>Product 118</td><td>Electronics</td></tr><tr><td>119</td><td>Product 119</td><td>Books</td></tr><tr><td>120</td><td>Product 120</td><td>Clothing</td></tr><tr><td>121</td><td>Product 121</td><td>Books</td></tr><tr><td>122</td><td>Product 122</td><td>Books</td></tr><tr><td>123</td><td>Product 123</td><td>Toys</td></tr><tr><td>124</td><td>Product 124</td><td>Clothing</td></tr><tr><td>125</td><td>Product 125</td><td>Clothing</td></tr><tr><td>126</td><td>Product 126</td><td>Books</td></tr><tr><td>127</td><td>Product 127</td><td>Electronics</td></tr><tr><td>128</td><td>Product 128</td><td>Toys</td></tr><tr><td>129</td><td>Product 129</td><td>Books</td></tr><tr><td>130</td><td>Product 130</td><td>Electronics</td></tr><tr><td>131</td><td>Product 131</td><td>Toys</td></tr><tr><td>132</td><td>Product 132</td><td>Electronics</td></tr><tr><td>133</td><td>Product 133</td><td>Furniture</td></tr><tr><td>134</td><td>Product 134</td><td>Toys</td></tr><tr><td>135</td><td>Product 135</td><td>Toys</td></tr><tr><td>136</td><td>Product 136</td><td>Toys</td></tr><tr><td>137</td><td>Product 137</td><td>Furniture</td></tr><tr><td>138</td><td>Product 138</td><td>Electronics</td></tr><tr><td>139</td><td>Product 139</td><td>Clothing</td></tr><tr><td>140</td><td>Product 140</td><td>Furniture</td></tr><tr><td>141</td><td>Product 141</td><td>Clothing</td></tr><tr><td>142</td><td>Product 142</td><td>Toys</td></tr><tr><td>143</td><td>Product 143</td><td>Furniture</td></tr><tr><td>144</td><td>Product 144</td><td>Electronics</td></tr><tr><td>145</td><td>Product 145</td><td>Furniture</td></tr><tr><td>146</td><td>Product 146</td><td>Furniture</td></tr><tr><td>147</td><td>Product 147</td><td>Clothing</td></tr><tr><td>148</td><td>Product 148</td><td>Clothing</td></tr><tr><td>149</td><td>Product 149</td><td>Books</td></tr><tr><td>150</td><td>Product 150</td><td>Electronics</td></tr><tr><td>151</td><td>Product 151</td><td>Electronics</td></tr><tr><td>152</td><td>Product 152</td><td>Furniture</td></tr><tr><td>153</td><td>Product 153</td><td>Furniture</td></tr><tr><td>154</td><td>Product 154</td><td>Clothing</td></tr><tr><td>155</td><td>Product 155</td><td>Clothing</td></tr><tr><td>156</td><td>Product 156</td><td>Books</td></tr><tr><td>157</td><td>Product 157</td><td>Toys</td></tr><tr><td>158</td><td>Product 158</td><td>Electronics</td></tr><tr><td>159</td><td>Product 159</td><td>Furniture</td></tr><tr><td>160</td><td>Product 160</td><td>Toys</td></tr><tr><td>161</td><td>Product 161</td><td>Clothing</td></tr><tr><td>162</td><td>Product 162</td><td>Books</td></tr><tr><td>163</td><td>Product 163</td><td>Clothing</td></tr><tr><td>164</td><td>Product 164</td><td>Toys</td></tr><tr><td>165</td><td>Product 165</td><td>Electronics</td></tr><tr><td>166</td><td>Product 166</td><td>Electronics</td></tr><tr><td>167</td><td>Product 167</td><td>Furniture</td></tr><tr><td>168</td><td>Product 168</td><td>Electronics</td></tr><tr><td>169</td><td>Product 169</td><td>Toys</td></tr><tr><td>170</td><td>Product 170</td><td>Toys</td></tr><tr><td>171</td><td>Product 171</td><td>Clothing</td></tr><tr><td>172</td><td>Product 172</td><td>Books</td></tr><tr><td>173</td><td>Product 173</td><td>Furniture</td></tr><tr><td>174</td><td>Product 174</td><td>Toys</td></tr><tr><td>175</td><td>Product 175</td><td>Electronics</td></tr><tr><td>176</td><td>Product 176</td><td>Clothing</td></tr><tr><td>177</td><td>Product 177</td><td>Toys</td></tr><tr><td>178</td><td>Product 178</td><td>Clothing</td></tr><tr><td>179</td><td>Product 179</td><td>Electronics</td></tr><tr><td>180</td><td>Product 180</td><td>Furniture</td></tr><tr><td>181</td><td>Product 181</td><td>Furniture</td></tr><tr><td>182</td><td>Product 182</td><td>Electronics</td></tr><tr><td>183</td><td>Product 183</td><td>Toys</td></tr><tr><td>184</td><td>Product 184</td><td>Electronics</td></tr><tr><td>185</td><td>Product 185</td><td>Toys</td></tr><tr><td>186</td><td>Product 186</td><td>Clothing</td></tr><tr><td>187</td><td>Product 187</td><td>Furniture</td></tr><tr><td>188</td><td>Product 188</td><td>Furniture</td></tr><tr><td>189</td><td>Product 189</td><td>Electronics</td></tr><tr><td>190</td><td>Product 190</td><td>Books</td></tr><tr><td>191</td><td>Product 191</td><td>Clothing</td></tr><tr><td>192</td><td>Product 192</td><td>Toys</td></tr><tr><td>193</td><td>Product 193</td><td>Furniture</td></tr><tr><td>194</td><td>Product 194</td><td>Books</td></tr><tr><td>195</td><td>Product 195</td><td>Clothing</td></tr><tr><td>196</td><td>Product 196</td><td>Books</td></tr><tr><td>197</td><td>Product 197</td><td>Books</td></tr><tr><td>198</td><td>Product 198</td><td>Toys</td></tr><tr><td>199</td><td>Product 199</td><td>Toys</td></tr><tr><td>200</td><td>Product 200</td><td>Furniture</td></tr></table>"
                    },
                    "metadata": {}
                }
            ],
            "execution_count": 8
        },
        {
            "cell_type": "markdown",
            "source": [
                "orders tábla"
            ],
            "metadata": {
                "language": "sql",
                "azdata_cell_guid": "b1e77acf-c272-45f4-9b56-03ecc149c1dd"
            },
            "attachments": {}
        },
        {
            "cell_type": "code",
            "source": [
                "SELECT AVG(total_amount) as 'avg_rendeles', COUNT(*) as 'rendelesek_szama'\n",
                "FROM [sql_recap].[dbo].[orders]"
            ],
            "metadata": {
                "azdata_cell_guid": "105897cd-5cd1-48ca-a274-62a5734762a9",
                "language": "sql"
            },
            "outputs": [
                {
                    "output_type": "display_data",
                    "data": {
                        "text/html": "(1 row affected)"
                    },
                    "metadata": {}
                },
                {
                    "output_type": "display_data",
                    "data": {
                        "text/html": "(1 row affected)"
                    },
                    "metadata": {}
                },
                {
                    "output_type": "display_data",
                    "data": {
                        "text/html": "Total execution time: 00:00:00.048"
                    },
                    "metadata": {}
                },
                {
                    "output_type": "execute_result",
                    "execution_count": 20,
                    "data": {
                        "application/vnd.dataresource+json": {
                            "schema": {
                                "fields": [
                                    {
                                        "name": "avg_rendeles"
                                    },
                                    {
                                        "name": "rendelesek_szama"
                                    }
                                ]
                            },
                            "data": [
                                {
                                    "avg_rendeles": "3160",
                                    "rendelesek_szama": "3000"
                                }
                            ]
                        },
                        "text/html": "<table><tr><th>avg_rendeles</th><th>rendelesek_szama</th></tr><tr><td>3160</td><td>3000</td></tr></table>"
                    },
                    "metadata": {}
                },
                {
                    "output_type": "execute_result",
                    "execution_count": 20,
                    "data": {
                        "application/vnd.dataresource+json": {
                            "schema": {
                                "fields": [
                                    {
                                        "name": "rendelesek_szama"
                                    }
                                ]
                            },
                            "data": [
                                {
                                    "rendelesek_szama": "3000"
                                }
                            ]
                        },
                        "text/html": "<table><tr><th>rendelesek_szama</th></tr><tr><td>3000</td></tr></table>"
                    },
                    "metadata": {}
                }
            ],
            "execution_count": 20
        },
        {
            "cell_type": "markdown",
            "source": [
                "order"
            ],
            "metadata": {
                "language": "sql",
                "azdata_cell_guid": "2d87d02f-3b2d-46ab-93e7-fe2f8bf3b35a"
            },
            "attachments": {}
        },
        {
            "cell_type": "code",
            "source": [
                "SELECT \n",
                "    SUM(quantity) as 'sum_quantity', \n",
                "    MAX(price_per_unit) as 'max_ár', \n",
                "    MIN(price_per_unit) as 'min_ár', \n",
                "    AVG(price_per_unit) as 'avg_price' \n",
                "FROM [sql_recap].[dbo].[order_details]"
            ],
            "metadata": {
                "language": "sql",
                "azdata_cell_guid": "a283ba86-0e3f-412b-85f6-a3904165df95"
            },
            "outputs": [
                {
                    "output_type": "display_data",
                    "data": {
                        "text/html": "(1 row affected)"
                    },
                    "metadata": {}
                },
                {
                    "output_type": "display_data",
                    "data": {
                        "text/html": "Total execution time: 00:00:00.039"
                    },
                    "metadata": {}
                },
                {
                    "output_type": "execute_result",
                    "execution_count": 23,
                    "data": {
                        "application/vnd.dataresource+json": {
                            "schema": {
                                "fields": [
                                    {
                                        "name": "sum_quantity"
                                    },
                                    {
                                        "name": "max_ár"
                                    },
                                    {
                                        "name": "min_ár"
                                    },
                                    {
                                        "name": "avg_price"
                                    }
                                ]
                            },
                            "data": [
                                {
                                    "sum_quantity": "17934",
                                    "max_ár": "1000",
                                    "min_ár": "50",
                                    "avg_price": "527"
                                }
                            ]
                        },
                        "text/html": "<table><tr><th>sum_quantity</th><th>max_ár</th><th>min_ár</th><th>avg_price</th></tr><tr><td>17934</td><td>1000</td><td>50</td><td>527</td></tr></table>"
                    },
                    "metadata": {}
                }
            ],
            "execution_count": 23
        },
        {
            "cell_type": "code",
            "source": [
                ""
            ],
            "metadata": {
                "language": "sql",
                "azdata_cell_guid": "4bde30ca-ee78-4d3f-bf78-c16a32fc290d"
            },
            "outputs": [],
            "execution_count": null
        },
        {
            "cell_type": "markdown",
            "source": [
                "teszt"
            ],
            "metadata": {
                "language": "sql",
                "azdata_cell_guid": "97a6cd74-908f-4f80-9a02-2ca6e777c7d1"
            },
            "attachments": {}
        },
        {
            "cell_type": "code",
            "source": [
                "SELECT TOP (3) [customer_id]\r\n",
                "      ,[name]\r\n",
                "      ,[signup_date]\r\n",
                "      ,[country]\r\n",
                "  FROM [sql_recap].[dbo].[customers]"
            ],
            "metadata": {
                "language": "sql",
                "azdata_cell_guid": "2b7256f0-3a9e-4977-bc23-403c672e30d1"
            },
            "outputs": [
                {
                    "output_type": "display_data",
                    "data": {
                        "text/html": "(3 rows affected)"
                    },
                    "metadata": {}
                },
                {
                    "output_type": "display_data",
                    "data": {
                        "text/html": "Total execution time: 00:00:00.011"
                    },
                    "metadata": {}
                },
                {
                    "output_type": "execute_result",
                    "metadata": {},
                    "execution_count": 2,
                    "data": {
                        "application/vnd.dataresource+json": {
                            "schema": {
                                "fields": [
                                    {
                                        "name": "customer_id"
                                    },
                                    {
                                        "name": "name"
                                    },
                                    {
                                        "name": "signup_date"
                                    },
                                    {
                                        "name": "country"
                                    }
                                ]
                            },
                            "data": [
                                {
                                    "customer_id": "1",
                                    "name": "Dr. Erin Preston DDS",
                                    "signup_date": "2020-06-26",
                                    "country": "France"
                                },
                                {
                                    "customer_id": "2",
                                    "name": "Brad Castro",
                                    "signup_date": "2023-03-08",
                                    "country": "USA"
                                },
                                {
                                    "customer_id": "3",
                                    "name": "Mrs. Erica Smith",
                                    "signup_date": "2020-06-22",
                                    "country": "Germany"
                                }
                            ]
                        },
                        "text/html": [
                            "<table>",
                            "<tr><th>customer_id</th><th>name</th><th>signup_date</th><th>country</th></tr>",
                            "<tr><td>1</td><td>Dr. Erin Preston DDS</td><td>2020-06-26</td><td>France</td></tr>",
                            "<tr><td>2</td><td>Brad Castro</td><td>2023-03-08</td><td>USA</td></tr>",
                            "<tr><td>3</td><td>Mrs. Erica Smith</td><td>2020-06-22</td><td>Germany</td></tr>",
                            "</table>"
                        ]
                    }
                }
            ],
            "execution_count": 2
        }
    ]
}